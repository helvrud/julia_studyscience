{
 "cells": [
  {
   "cell_type": "code",
   "execution_count": 1,
   "id": "2f5995fd-bd98-4848-b772-8ec30d9e7939",
   "metadata": {},
   "outputs": [],
   "source": [
    "using Molly"
   ]
  },
  {
   "cell_type": "code",
   "execution_count": 2,
   "id": "9e5f4c51-7d7f-40e2-9b81-626d05a92ea5",
   "metadata": {},
   "outputs": [
    {
     "data": {
      "text/plain": [
       "100"
      ]
     },
     "execution_count": 2,
     "metadata": {},
     "output_type": "execute_result"
    }
   ],
   "source": [
    "n_atoms = 100"
   ]
  },
  {
   "cell_type": "code",
   "execution_count": 3,
   "id": "2e7fcb91-bf80-44cb-9daa-0fe1e9006faf",
   "metadata": {},
   "outputs": [
    {
     "data": {
      "text/plain": [
       "10.0 g mol^-1"
      ]
     },
     "execution_count": 3,
     "metadata": {},
     "output_type": "execute_result"
    }
   ],
   "source": [
    "atom_mass = 10.0u\"g/mol\""
   ]
  },
  {
   "cell_type": "code",
   "execution_count": 4,
   "id": "4ff3d596-4615-4e7f-8cb5-3f4fd2cb5b7d",
   "metadata": {},
   "outputs": [
    {
     "data": {
      "text/plain": [
       "100-element Vector{Atom{Float64, Quantity{Float64, 𝐌 𝐍^-1, Unitful.FreeUnits{(g, mol^-1), 𝐌 𝐍^-1, nothing}}, Quantity{Float64, 𝐋, Unitful.FreeUnits{(nm,), 𝐋, nothing}}, Quantity{Float64, 𝐋^2 𝐌 𝐍^-1 𝐓^-2, Unitful.FreeUnits{(kJ, mol^-1), 𝐋^2 𝐌 𝐍^-1 𝐓^-2, nothing}}}}:\n",
       " Atom with index 1, charge=0.0, mass=10.0 g mol^-1, σ=0.3 nm, ϵ=0.2 kJ mol^-1\n",
       " Atom with index 1, charge=0.0, mass=10.0 g mol^-1, σ=0.3 nm, ϵ=0.2 kJ mol^-1\n",
       " Atom with index 1, charge=0.0, mass=10.0 g mol^-1, σ=0.3 nm, ϵ=0.2 kJ mol^-1\n",
       " Atom with index 1, charge=0.0, mass=10.0 g mol^-1, σ=0.3 nm, ϵ=0.2 kJ mol^-1\n",
       " Atom with index 1, charge=0.0, mass=10.0 g mol^-1, σ=0.3 nm, ϵ=0.2 kJ mol^-1\n",
       " Atom with index 1, charge=0.0, mass=10.0 g mol^-1, σ=0.3 nm, ϵ=0.2 kJ mol^-1\n",
       " Atom with index 1, charge=0.0, mass=10.0 g mol^-1, σ=0.3 nm, ϵ=0.2 kJ mol^-1\n",
       " Atom with index 1, charge=0.0, mass=10.0 g mol^-1, σ=0.3 nm, ϵ=0.2 kJ mol^-1\n",
       " Atom with index 1, charge=0.0, mass=10.0 g mol^-1, σ=0.3 nm, ϵ=0.2 kJ mol^-1\n",
       " Atom with index 1, charge=0.0, mass=10.0 g mol^-1, σ=0.3 nm, ϵ=0.2 kJ mol^-1\n",
       " Atom with index 1, charge=0.0, mass=10.0 g mol^-1, σ=0.3 nm, ϵ=0.2 kJ mol^-1\n",
       " Atom with index 1, charge=0.0, mass=10.0 g mol^-1, σ=0.3 nm, ϵ=0.2 kJ mol^-1\n",
       " Atom with index 1, charge=0.0, mass=10.0 g mol^-1, σ=0.3 nm, ϵ=0.2 kJ mol^-1\n",
       " ⋮\n",
       " Atom with index 1, charge=0.0, mass=10.0 g mol^-1, σ=0.3 nm, ϵ=0.2 kJ mol^-1\n",
       " Atom with index 1, charge=0.0, mass=10.0 g mol^-1, σ=0.3 nm, ϵ=0.2 kJ mol^-1\n",
       " Atom with index 1, charge=0.0, mass=10.0 g mol^-1, σ=0.3 nm, ϵ=0.2 kJ mol^-1\n",
       " Atom with index 1, charge=0.0, mass=10.0 g mol^-1, σ=0.3 nm, ϵ=0.2 kJ mol^-1\n",
       " Atom with index 1, charge=0.0, mass=10.0 g mol^-1, σ=0.3 nm, ϵ=0.2 kJ mol^-1\n",
       " Atom with index 1, charge=0.0, mass=10.0 g mol^-1, σ=0.3 nm, ϵ=0.2 kJ mol^-1\n",
       " Atom with index 1, charge=0.0, mass=10.0 g mol^-1, σ=0.3 nm, ϵ=0.2 kJ mol^-1\n",
       " Atom with index 1, charge=0.0, mass=10.0 g mol^-1, σ=0.3 nm, ϵ=0.2 kJ mol^-1\n",
       " Atom with index 1, charge=0.0, mass=10.0 g mol^-1, σ=0.3 nm, ϵ=0.2 kJ mol^-1\n",
       " Atom with index 1, charge=0.0, mass=10.0 g mol^-1, σ=0.3 nm, ϵ=0.2 kJ mol^-1\n",
       " Atom with index 1, charge=0.0, mass=10.0 g mol^-1, σ=0.3 nm, ϵ=0.2 kJ mol^-1\n",
       " Atom with index 1, charge=0.0, mass=10.0 g mol^-1, σ=0.3 nm, ϵ=0.2 kJ mol^-1"
      ]
     },
     "execution_count": 4,
     "metadata": {},
     "output_type": "execute_result"
    }
   ],
   "source": [
    "atoms = [Atom(mass=atom_mass, σ=0.3u\"nm\", ϵ=0.2u\"kJ * mol^-1\") for i in 1:n_atoms]"
   ]
  },
  {
   "cell_type": "code",
   "execution_count": 5,
   "id": "1d03c150-65ce-4bfe-bd66-58ae32aa1ca3",
   "metadata": {},
   "outputs": [
    {
     "data": {
      "text/plain": [
       "CubicBoundary{Quantity{Float64, 𝐋, Unitful.FreeUnits{(nm,), 𝐋, nothing}}}(Quantity{Float64, 𝐋, Unitful.FreeUnits{(nm,), 𝐋, nothing}}[2.0 nm, 2.0 nm, 2.0 nm])"
      ]
     },
     "execution_count": 5,
     "metadata": {},
     "output_type": "execute_result"
    }
   ],
   "source": [
    "boundary = CubicBouboundary = CubicBoundary(2.0u\"nm\") # Periodic boundary conditions with a 2 nm cubendary(2.0u\"nm\") # Periodic boundary conditions with a 2 nm cube"
   ]
  },
  {
   "cell_type": "code",
   "execution_count": 6,
   "id": "00d85ebc-7fa2-49e0-b078-390a6dda3291",
   "metadata": {},
   "outputs": [
    {
     "data": {
      "text/plain": [
       "100-element Vector{SVector{3, Quantity{Float64, 𝐋, Unitful.FreeUnits{(nm,), 𝐋, nothing}}}}:\n",
       " [0.8128975730085819 nm, 0.9806553945159269 nm, 1.6146267140324044 nm]\n",
       " [1.2702027033123147 nm, 1.0117778397653607 nm, 0.5777815819755494 nm]\n",
       " [1.352866180910361 nm, 1.949610816242016 nm, 1.6238253839466996 nm]\n",
       " [1.7499869819237266 nm, 1.4439795114397078 nm, 1.6599496898517594 nm]\n",
       " [0.979742151813084 nm, 0.1690690250923872 nm, 0.04645127334472665 nm]\n",
       " [0.23079278107852796 nm, 1.6758245788352761 nm, 1.7818907292170034 nm]\n",
       " [0.980873465467816 nm, 1.3873399131837383 nm, 1.37905267375719 nm]\n",
       " [0.44874363445371634 nm, 0.03270633611654716 nm, 0.7031603290109556 nm]\n",
       " [1.625103314645849 nm, 0.7965659065009694 nm, 1.3318653150754456 nm]\n",
       " [0.4583365447973433 nm, 0.20444839284307315 nm, 0.29329492968379656 nm]\n",
       " [0.5464015993837319 nm, 1.6195063376286596 nm, 0.010959855854353329 nm]\n",
       " [0.7265497087683017 nm, 0.8365033870500216 nm, 0.29574864176603577 nm]\n",
       " [1.132916166810397 nm, 1.0328940069010837 nm, 0.30122747875855005 nm]\n",
       " ⋮\n",
       " [0.22268227269139773 nm, 1.8687577997842095 nm, 0.24842614805224672 nm]\n",
       " [0.6797405741478519 nm, 0.02708395288778398 nm, 0.04788226903648507 nm]\n",
       " [1.5721731367551997 nm, 0.25471803576588115 nm, 0.0971394710606861 nm]\n",
       " [1.6408821841947825 nm, 0.8706216287934012 nm, 1.688501634112156 nm]\n",
       " [1.142779272212849 nm, 1.001048779459905 nm, 1.057670891039486 nm]\n",
       " [0.43133482125063116 nm, 1.2969577931275067 nm, 0.008403357567996927 nm]\n",
       " [1.377625217192663 nm, 1.3132227549290727 nm, 0.9200363619640919 nm]\n",
       " [1.4756961217591278 nm, 0.007680989710522335 nm, 1.209350860204088 nm]\n",
       " [0.7175562778263676 nm, 1.333873408055072 nm, 1.784359223964688 nm]\n",
       " [0.19472486537247513 nm, 0.9845161951957158 nm, 1.500701374410957 nm]\n",
       " [1.7156389556754479 nm, 1.054784547611506 nm, 0.9895275179880816 nm]\n",
       " [0.980119779058148 nm, 1.9931148988077527 nm, 1.6799464611080892 nm]"
      ]
     },
     "execution_count": 6,
     "metadata": {},
     "output_type": "execute_result"
    }
   ],
   "source": [
    "coords = place_atoms(n_atoms, boundary; min_dist=0.3u\"nm\") # Random placement without clashing"
   ]
  },
  {
   "cell_type": "code",
   "execution_count": 7,
   "id": "e91f4d2b-83f2-41fb-853b-9d75d9ef2673",
   "metadata": {},
   "outputs": [
    {
     "data": {
      "text/plain": [
       "100.0 K"
      ]
     },
     "execution_count": 7,
     "metadata": {},
     "output_type": "execute_result"
    }
   ],
   "source": [
    "temp = 100.0u\"K\""
   ]
  },
  {
   "cell_type": "code",
   "execution_count": 86,
   "id": "e24c39a4-f288-4ace-b10f-2135e80b3f24",
   "metadata": {},
   "outputs": [],
   "source": [
    "#velocities = [random_velocity(atom_mass, temp) for i in 1:n_atoms]"
   ]
  },
  {
   "cell_type": "code",
   "execution_count": 9,
   "id": "f62f75da-7e1a-4c24-bf84-357cbeb5329e",
   "metadata": {},
   "outputs": [
    {
     "data": {
      "text/plain": [
       "3-element SVector{3, Quantity{Float64, 𝐋, Unitful.FreeUnits{(nm,), 𝐋, nothing}}} with indices SOneTo(3):\n",
       " 0.45730513030373277 nm\n",
       " 0.03112244524943386 nm\n",
       "   0.963154867943145 nm"
      ]
     },
     "execution_count": 9,
     "metadata": {},
     "output_type": "execute_result"
    }
   ],
   "source": [
    "vector(coords[1], coords[2], boundary)"
   ]
  },
  {
   "cell_type": "code",
   "execution_count": 10,
   "id": "7062f09b-f792-4eef-9d9b-cd4a4dd5ed6c",
   "metadata": {},
   "outputs": [
    {
     "data": {
      "text/plain": [
       "(LennardJones{false, NoCutoff, Int64, Int64, Unitful.FreeUnits{(kJ, nm^-1, mol^-1), 𝐋 𝐌 𝐍^-1 𝐓^-2, nothing}, Unitful.FreeUnits{(kJ, mol^-1), 𝐋^2 𝐌 𝐍^-1 𝐓^-2, nothing}}(NoCutoff(), false, true, 1, 1, kJ nm^-1 mol^-1, kJ mol^-1),)"
      ]
     },
     "execution_count": 10,
     "metadata": {},
     "output_type": "execute_result"
    }
   ],
   "source": [
    "pairwise_inters = (LennardJones(),) # Don't forget the trailing comma!"
   ]
  },
  {
   "cell_type": "code",
   "execution_count": 11,
   "id": "713f00ab-2503-46cb-bed1-1830412394b9",
   "metadata": {},
   "outputs": [
    {
     "data": {
      "text/plain": [
       "System with 100 atoms, boundary CubicBoundary{Quantity{Float64, 𝐋, Unitful.FreeUnits{(nm,), 𝐋, nothing}}}(Quantity{Float64, 𝐋, Unitful.FreeUnits{(nm,), 𝐋, nothing}}[2.0 nm, 2.0 nm, 2.0 nm])"
      ]
     },
     "execution_count": 11,
     "metadata": {},
     "output_type": "execute_result"
    }
   ],
   "source": [
    "sys = System(\n",
    "    atoms=atoms,\n",
    "    coords=coords,\n",
    "    boundary=boundary,\n",
    "    velocities=velocities,\n",
    "    pairwise_inters=pairwise_inters,\n",
    "    loggers=(\n",
    "        temp=TemperatureLogger(10),\n",
    "        coords=CoordinateLogger(10),\n",
    "    ),\n",
    ")"
   ]
  },
  {
   "cell_type": "code",
   "execution_count": 12,
   "id": "1fc49cec-35db-42a2-895e-e2f87a9c8dd3",
   "metadata": {},
   "outputs": [
    {
     "data": {
      "text/plain": [
       "VelocityVerlet{Quantity{Float64, 𝐓, Unitful.FreeUnits{(ps,), 𝐓, nothing}}, AndersenThermostat{Quantity{Float64, 𝚯, Unitful.FreeUnits{(K,), 𝚯, nothing}}, Quantity{Float64, 𝐓, Unitful.FreeUnits{(ps,), 𝐓, nothing}}}}(0.002 ps, AndersenThermostat{Quantity{Float64, 𝚯, Unitful.FreeUnits{(K,), 𝚯, nothing}}, Quantity{Float64, 𝐓, Unitful.FreeUnits{(ps,), 𝐓, nothing}}}(100.0 K, 1.0 ps), 1)"
      ]
     },
     "execution_count": 12,
     "metadata": {},
     "output_type": "execute_result"
    }
   ],
   "source": [
    "simulator = VelocityVerlet(\n",
    "    dt=0.002u\"ps\",\n",
    "    coupling=AndersenThermostat(temp, 1.0u\"ps\"),\n",
    ")"
   ]
  },
  {
   "cell_type": "code",
   "execution_count": 87,
   "id": "d4168d08-7b31-432e-b4c4-8ef3c4a12186",
   "metadata": {},
   "outputs": [
    {
     "data": {
      "text/plain": [
       "System with 100 atoms, boundary CubicBoundary{Quantity{Float64, 𝐋, Unitful.FreeUnits{(nm,), 𝐋, nothing}}}(Quantity{Float64, 𝐋, Unitful.FreeUnits{(nm,), 𝐋, nothing}}[2.0 nm, 2.0 nm, 2.0 nm])"
      ]
     },
     "execution_count": 87,
     "metadata": {},
     "output_type": "execute_result"
    }
   ],
   "source": [
    "simulate!(sys, simulator, 1000)"
   ]
  },
  {
   "cell_type": "code",
   "execution_count": 88,
   "id": "0c71773e-0fee-4930-85bb-619703da579c",
   "metadata": {},
   "outputs": [
    {
     "data": {
      "text/plain": [
       "-35.815468220707956 kJ mol^-1"
      ]
     },
     "execution_count": 88,
     "metadata": {},
     "output_type": "execute_result"
    }
   ],
   "source": [
    "potential_energy(sys)\n"
   ]
  },
  {
   "cell_type": "code",
   "execution_count": 89,
   "id": "527dc1e1-1a0e-43e9-9461-fc4a0c78b6fa",
   "metadata": {},
   "outputs": [
    {
     "data": {
      "text/plain": [
       "126.22392311649992 kJ mol^-1"
      ]
     },
     "execution_count": 89,
     "metadata": {},
     "output_type": "execute_result"
    }
   ],
   "source": [
    "kinetic_energy(sys)\n"
   ]
  },
  {
   "cell_type": "code",
   "execution_count": 90,
   "id": "1643f4d5-36ec-4d5b-b4e4-4d835debe1e0",
   "metadata": {},
   "outputs": [
    {
     "data": {
      "text/plain": [
       "90.40845489579196 kJ mol^-1"
      ]
     },
     "execution_count": 90,
     "metadata": {},
     "output_type": "execute_result"
    }
   ],
   "source": [
    "total_energy(sys)\n"
   ]
  },
  {
   "cell_type": "code",
   "execution_count": 91,
   "id": "06563702-9197-407c-8f92-d677a26fd417",
   "metadata": {},
   "outputs": [],
   "source": [
    "#forces(sys)\n"
   ]
  },
  {
   "cell_type": "code",
   "execution_count": 92,
   "id": "35ac0a0b-57d3-4e3e-9698-e6c37d23c9aa",
   "metadata": {},
   "outputs": [],
   "source": [
    "#accelerations(sys)"
   ]
  },
  {
   "cell_type": "code",
   "execution_count": 93,
   "id": "5f346f0c-060a-49f7-9108-675e31c8517a",
   "metadata": {},
   "outputs": [],
   "source": [
    "#masses(sys)\n"
   ]
  },
  {
   "cell_type": "code",
   "execution_count": 94,
   "id": "e115461a-b564-474d-b388-3ae876cf370f",
   "metadata": {},
   "outputs": [
    {
     "data": {
      "text/plain": [
       "102.23062960238002 K"
      ]
     },
     "execution_count": 94,
     "metadata": {},
     "output_type": "execute_result"
    }
   ],
   "source": [
    "temperature(sys)"
   ]
  },
  {
   "cell_type": "code",
   "execution_count": 95,
   "id": "b2b796d7-cddb-4ab4-a013-8ee4f48690b3",
   "metadata": {},
   "outputs": [],
   "source": [
    "#random_velocities(sys, 300.0u\"K\")"
   ]
  },
  {
   "cell_type": "code",
   "execution_count": 96,
   "id": "76a55209-d0d0-4e22-bc98-813476c58132",
   "metadata": {},
   "outputs": [],
   "source": [
    "#float_type(sys)"
   ]
  },
  {
   "cell_type": "code",
   "execution_count": 97,
   "id": "a648ba96-8717-47dc-b7e2-0993fae49cc6",
   "metadata": {},
   "outputs": [
    {
     "data": {
      "text/plain": [
       "false"
      ]
     },
     "execution_count": 97,
     "metadata": {},
     "output_type": "execute_result"
    }
   ],
   "source": [
    "is_on_gpu(sys)"
   ]
  },
  {
   "cell_type": "code",
   "execution_count": 98,
   "id": "19585825-9569-4a08-a7a4-7efa637bc4be",
   "metadata": {},
   "outputs": [
    {
     "data": {
      "text/plain": [
       "10.0 g mol^-1"
      ]
     },
     "execution_count": 98,
     "metadata": {},
     "output_type": "execute_result"
    }
   ],
   "source": [
    "atomic_mass(sys, 5)"
   ]
  },
  {
   "cell_type": "code",
   "execution_count": 99,
   "id": "d74da1da-09bc-4fb3-9536-5203a2ae4965",
   "metadata": {},
   "outputs": [
    {
     "data": {
      "text/plain": [
       "3-element SVector{3, Quantity{Float64, 𝐋, Unitful.FreeUnits{(nm,), 𝐋, nothing}}} with indices SOneTo(3):\n",
       " 0.5064545405840767 nm\n",
       " 1.4521113341410865 nm\n",
       " 1.8589030453324051 nm"
      ]
     },
     "execution_count": 99,
     "metadata": {},
     "output_type": "execute_result"
    }
   ],
   "source": [
    "position(sys, 1)"
   ]
  },
  {
   "cell_type": "code",
   "execution_count": 101,
   "id": "a9fb9f21-a4bb-4eef-90b1-fc431221d3dd",
   "metadata": {},
   "outputs": [
    {
     "data": {
      "text/plain": [
       "-32.50215722324938 kJ mol^-1"
      ]
     },
     "execution_count": 101,
     "metadata": {},
     "output_type": "execute_result"
    }
   ],
   "source": [
    "virial(sys)"
   ]
  },
  {
   "cell_type": "markdown",
   "id": "7dd68f05-1663-4a38-95c2-062619e8104c",
   "metadata": {},
   "source": [
    "$$ \\Xi = -\\frac{1}{2} \\sum_{i,j>i} r_{ij} \\cdot F_{ij} $$"
   ]
  },
  {
   "cell_type": "code",
   "execution_count": 81,
   "id": "49b79ca5-be76-413d-9918-5116c26b1297",
   "metadata": {},
   "outputs": [],
   "source": [
    "try\n",
    "    using GLMakie\n",
    "catch e\n",
    "    import Pkg; Pkg.add(\"GLMakie\")\n",
    "end"
   ]
  },
  {
   "cell_type": "code",
   "execution_count": 102,
   "id": "09eacc00-ac42-431b-b1be-0940944c844e",
   "metadata": {},
   "outputs": [
    {
     "data": {
      "text/plain": [
       "\"sim_lj.mp4\""
      ]
     },
     "execution_count": 102,
     "metadata": {},
     "output_type": "execute_result"
    }
   ],
   "source": [
    "visualize(sys.loggers.coords, boundary, \"sim_lj.mp4\")"
   ]
  },
  {
   "cell_type": "code",
   "execution_count": 83,
   "id": "7c936fe6-fbcd-4e67-a741-96ffda8c465c",
   "metadata": {},
   "outputs": [
    {
     "data": {
      "text/plain": [
       "CoordinateLogger{SVector{3, Quantity{Float64, 𝐋, Unitful.FreeUnits{(nm,), 𝐋, nothing}}}} with n_steps 10, 6103 frames recorded for 100 atoms"
      ]
     },
     "execution_count": 83,
     "metadata": {},
     "output_type": "execute_result"
    }
   ],
   "source": [
    "sys.loggers.coords"
   ]
  },
  {
   "cell_type": "code",
   "execution_count": null,
   "id": "7b5eba7e-c2f6-40cf-aa1d-6e14c7d5bc80",
   "metadata": {},
   "outputs": [],
   "source": []
  }
 ],
 "metadata": {
  "kernelspec": {
   "display_name": "Julia 1.10.0",
   "language": "julia",
   "name": "julia-1.10"
  },
  "language_info": {
   "file_extension": ".jl",
   "mimetype": "application/julia",
   "name": "julia",
   "version": "1.10.0"
  }
 },
 "nbformat": 4,
 "nbformat_minor": 5
}
