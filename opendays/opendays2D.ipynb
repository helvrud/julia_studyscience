{
 "cells": [
  {
   "cell_type": "code",
   "execution_count": 1,
   "id": "2f5995fd-bd98-4848-b772-8ec30d9e7939",
   "metadata": {},
   "outputs": [],
   "source": [
    "using Molly\n",
    "\n",
    "try\n",
    "    using GLMakie\n",
    "catch e\n",
    "    import Pkg; Pkg.add(\"GLMakie\")\n",
    "end"
   ]
  },
  {
   "cell_type": "code",
   "execution_count": 2,
   "id": "d69c6a77-2891-4686-9cb3-6fad548ada48",
   "metadata": {},
   "outputs": [
    {
     "data": {
      "text/plain": [
       "20"
      ]
     },
     "execution_count": 2,
     "metadata": {},
     "output_type": "execute_result"
    }
   ],
   "source": [
    "n_atomsO = 10\n",
    "n_atomsH = n_atomsO *2"
   ]
  },
  {
   "cell_type": "code",
   "execution_count": 3,
   "id": "2e7fcb91-bf80-44cb-9daa-0fe1e9006faf",
   "metadata": {},
   "outputs": [
    {
     "data": {
      "text/plain": [
       "16.0 g mol^-1"
      ]
     },
     "execution_count": 3,
     "metadata": {},
     "output_type": "execute_result"
    }
   ],
   "source": [
    "atomO_mass = 16.0u\"g/mol\"\n",
    "atomH_mass = 16.0u\"g/mol\""
   ]
  },
  {
   "cell_type": "code",
   "execution_count": 4,
   "id": "4ff3d596-4615-4e7f-8cb5-3f4fd2cb5b7d",
   "metadata": {},
   "outputs": [],
   "source": [
    "atomsO = [Atom(mass=atomO_mass, σ=0.3u\"nm\", ϵ=0.2u\"kJ * mol^-1\") for i in 1:n_atomsO];\n",
    "atomsH = [Atom(mass=atomH_mass, σ=0.1u\"nm\", ϵ=0.2u\"kJ * mol^-1\") for i in 1:n_atomsH];\n",
    "atoms = [atomsO;atomsH]; # this concatenates two vectors"
   ]
  },
  {
   "cell_type": "code",
   "execution_count": 5,
   "id": "142c121a-4fd0-42ca-a2a9-3c5d4296da5d",
   "metadata": {},
   "outputs": [],
   "source": [
    "# Periodic boundary conditions with a 2 nm cubendary(2.0u\"nm\") # Periodic boundary conditions with a 2 nm cube\n",
    "boundary = RectangularBoundary(10.0u\"nm\", 10.0u\"nm\") ;"
   ]
  },
  {
   "cell_type": "code",
   "execution_count": 6,
   "id": "00d85ebc-7fa2-49e0-b078-390a6dda3291",
   "metadata": {},
   "outputs": [],
   "source": [
    "coords = place_atoms(n_atomsO, boundary; min_dist=0.3u\"nm\"); # Random placement without clashing\n",
    "for i in 1:length(coords)\n",
    "    push!(coords, coords[i] .+ [0.1, 0.0]u\"nm\")\n",
    "    push!(coords, coords[i] .+ [0.0, 0.1]u\"nm\")\n",
    "end"
   ]
  },
  {
   "cell_type": "code",
   "execution_count": 7,
   "id": "6826814e-bc28-48ca-8186-f914f99218ff",
   "metadata": {},
   "outputs": [],
   "source": [
    "#bonds = InteractionList2Atoms(\n",
    "#    collect(1:(n_atomsO)),              # First atom indices\n",
    "#    collect((n_atomsO+1):n_atomsH),     # Second atom indices\n",
    "#    [HarmonicBond(k=300_000.0u\"kJ * mol^-1 * nm^-2\", r0=0.1u\"nm\") for i in 1:(n_atomsO)],\n",
    "#)\n",
    "\n",
    "#specific_inter_lists = (bonds,);"
   ]
  },
  {
   "cell_type": "code",
   "execution_count": 8,
   "id": "e5714e40-2a9e-4bcc-b0dd-d844601a1b4d",
   "metadata": {},
   "outputs": [
    {
     "data": {
      "text/plain": [
       "(InteractionList2Atoms{Vector{Int64}, Vector{FENEBond{Quantity{Float64, 𝐌 𝐍^-1 𝐓^-2, Unitful.FreeUnits{(kJ, nm^-2, mol^-1), 𝐌 𝐍^-1 𝐓^-2, nothing}}, Quantity{Float64, 𝐋, Unitful.FreeUnits{(nm,), 𝐋, nothing}}, Quantity{Float64, 𝐋^2 𝐌 𝐍^-1 𝐓^-2, Unitful.FreeUnits{(kJ, mol^-1), 𝐋^2 𝐌 𝐍^-1 𝐓^-2, nothing}}}}}([1, 2, 3, 4, 5, 6, 7, 8, 9, 10], [11, 12, 13, 14, 15, 16, 17, 18, 19, 20], FENEBond{Quantity{Float64, 𝐌 𝐍^-1 𝐓^-2, Unitful.FreeUnits{(kJ, nm^-2, mol^-1), 𝐌 𝐍^-1 𝐓^-2, nothing}}, Quantity{Float64, 𝐋, Unitful.FreeUnits{(nm,), 𝐋, nothing}}, Quantity{Float64, 𝐋^2 𝐌 𝐍^-1 𝐓^-2, Unitful.FreeUnits{(kJ, mol^-1), 𝐋^2 𝐌 𝐍^-1 𝐓^-2, nothing}}}[FENEBond{Quantity{Float64, 𝐌 𝐍^-1 𝐓^-2, Unitful.FreeUnits{(kJ, nm^-2, mol^-1), 𝐌 𝐍^-1 𝐓^-2, nothing}}, Quantity{Float64, 𝐋, Unitful.FreeUnits{(nm,), 𝐋, nothing}}, Quantity{Float64, 𝐋^2 𝐌 𝐍^-1 𝐓^-2, Unitful.FreeUnits{(kJ, mol^-1), 𝐋^2 𝐌 𝐍^-1 𝐓^-2, nothing}}}(250.0 kJ nm^-2 mol^-1, 1.6 nm, 1.0 nm, 2.5 kJ mol^-1), FENEBond{Quantity{Float64, 𝐌 𝐍^-1 𝐓^-2, Unitful.FreeUnits{(kJ, nm^-2, mol^-1), 𝐌 𝐍^-1 𝐓^-2, nothing}}, Quantity{Float64, 𝐋, Unitful.FreeUnits{(nm,), 𝐋, nothing}}, Quantity{Float64, 𝐋^2 𝐌 𝐍^-1 𝐓^-2, Unitful.FreeUnits{(kJ, mol^-1), 𝐋^2 𝐌 𝐍^-1 𝐓^-2, nothing}}}(250.0 kJ nm^-2 mol^-1, 1.6 nm, 1.0 nm, 2.5 kJ mol^-1), FENEBond{Quantity{Float64, 𝐌 𝐍^-1 𝐓^-2, Unitful.FreeUnits{(kJ, nm^-2, mol^-1), 𝐌 𝐍^-1 𝐓^-2, nothing}}, Quantity{Float64, 𝐋, Unitful.FreeUnits{(nm,), 𝐋, nothing}}, Quantity{Float64, 𝐋^2 𝐌 𝐍^-1 𝐓^-2, Unitful.FreeUnits{(kJ, mol^-1), 𝐋^2 𝐌 𝐍^-1 𝐓^-2, nothing}}}(250.0 kJ nm^-2 mol^-1, 1.6 nm, 1.0 nm, 2.5 kJ mol^-1), FENEBond{Quantity{Float64, 𝐌 𝐍^-1 𝐓^-2, Unitful.FreeUnits{(kJ, nm^-2, mol^-1), 𝐌 𝐍^-1 𝐓^-2, nothing}}, Quantity{Float64, 𝐋, Unitful.FreeUnits{(nm,), 𝐋, nothing}}, Quantity{Float64, 𝐋^2 𝐌 𝐍^-1 𝐓^-2, Unitful.FreeUnits{(kJ, mol^-1), 𝐋^2 𝐌 𝐍^-1 𝐓^-2, nothing}}}(250.0 kJ nm^-2 mol^-1, 1.6 nm, 1.0 nm, 2.5 kJ mol^-1), FENEBond{Quantity{Float64, 𝐌 𝐍^-1 𝐓^-2, Unitful.FreeUnits{(kJ, nm^-2, mol^-1), 𝐌 𝐍^-1 𝐓^-2, nothing}}, Quantity{Float64, 𝐋, Unitful.FreeUnits{(nm,), 𝐋, nothing}}, Quantity{Float64, 𝐋^2 𝐌 𝐍^-1 𝐓^-2, Unitful.FreeUnits{(kJ, mol^-1), 𝐋^2 𝐌 𝐍^-1 𝐓^-2, nothing}}}(250.0 kJ nm^-2 mol^-1, 1.6 nm, 1.0 nm, 2.5 kJ mol^-1), FENEBond{Quantity{Float64, 𝐌 𝐍^-1 𝐓^-2, Unitful.FreeUnits{(kJ, nm^-2, mol^-1), 𝐌 𝐍^-1 𝐓^-2, nothing}}, Quantity{Float64, 𝐋, Unitful.FreeUnits{(nm,), 𝐋, nothing}}, Quantity{Float64, 𝐋^2 𝐌 𝐍^-1 𝐓^-2, Unitful.FreeUnits{(kJ, mol^-1), 𝐋^2 𝐌 𝐍^-1 𝐓^-2, nothing}}}(250.0 kJ nm^-2 mol^-1, 1.6 nm, 1.0 nm, 2.5 kJ mol^-1), FENEBond{Quantity{Float64, 𝐌 𝐍^-1 𝐓^-2, Unitful.FreeUnits{(kJ, nm^-2, mol^-1), 𝐌 𝐍^-1 𝐓^-2, nothing}}, Quantity{Float64, 𝐋, Unitful.FreeUnits{(nm,), 𝐋, nothing}}, Quantity{Float64, 𝐋^2 𝐌 𝐍^-1 𝐓^-2, Unitful.FreeUnits{(kJ, mol^-1), 𝐋^2 𝐌 𝐍^-1 𝐓^-2, nothing}}}(250.0 kJ nm^-2 mol^-1, 1.6 nm, 1.0 nm, 2.5 kJ mol^-1), FENEBond{Quantity{Float64, 𝐌 𝐍^-1 𝐓^-2, Unitful.FreeUnits{(kJ, nm^-2, mol^-1), 𝐌 𝐍^-1 𝐓^-2, nothing}}, Quantity{Float64, 𝐋, Unitful.FreeUnits{(nm,), 𝐋, nothing}}, Quantity{Float64, 𝐋^2 𝐌 𝐍^-1 𝐓^-2, Unitful.FreeUnits{(kJ, mol^-1), 𝐋^2 𝐌 𝐍^-1 𝐓^-2, nothing}}}(250.0 kJ nm^-2 mol^-1, 1.6 nm, 1.0 nm, 2.5 kJ mol^-1), FENEBond{Quantity{Float64, 𝐌 𝐍^-1 𝐓^-2, Unitful.FreeUnits{(kJ, nm^-2, mol^-1), 𝐌 𝐍^-1 𝐓^-2, nothing}}, Quantity{Float64, 𝐋, Unitful.FreeUnits{(nm,), 𝐋, nothing}}, Quantity{Float64, 𝐋^2 𝐌 𝐍^-1 𝐓^-2, Unitful.FreeUnits{(kJ, mol^-1), 𝐋^2 𝐌 𝐍^-1 𝐓^-2, nothing}}}(250.0 kJ nm^-2 mol^-1, 1.6 nm, 1.0 nm, 2.5 kJ mol^-1), FENEBond{Quantity{Float64, 𝐌 𝐍^-1 𝐓^-2, Unitful.FreeUnits{(kJ, nm^-2, mol^-1), 𝐌 𝐍^-1 𝐓^-2, nothing}}, Quantity{Float64, 𝐋, Unitful.FreeUnits{(nm,), 𝐋, nothing}}, Quantity{Float64, 𝐋^2 𝐌 𝐍^-1 𝐓^-2, Unitful.FreeUnits{(kJ, mol^-1), 𝐋^2 𝐌 𝐍^-1 𝐓^-2, nothing}}}(250.0 kJ nm^-2 mol^-1, 1.6 nm, 1.0 nm, 2.5 kJ mol^-1)], [\"\", \"\", \"\", \"\", \"\", \"\", \"\", \"\", \"\", \"\"]),)"
      ]
     },
     "execution_count": 8,
     "metadata": {},
     "output_type": "execute_result"
    }
   ],
   "source": [
    "fene_k = 250.0u\"kJ * mol^-1 * nm^-2\"\n",
    "fene_r0 = 1.6u\"nm\"\n",
    "bonds = InteractionList2Atoms(\n",
    "    collect(1:(n_atomsO)),              # First atom indices\n",
    "    collect((n_atomsO+1):n_atomsH),     # Second atom indices\n",
    "    [FENEBond(k=fene_k, r0=fene_r0, σ=1.0u\"nm\", ϵ=2.5u\"kJ * mol^-1\") for _ in 1:n_atomsO],)\n",
    "\n",
    "specific_inter_lists = (bonds,)"
   ]
  },
  {
   "cell_type": "code",
   "execution_count": 9,
   "id": "e91f4d2b-83f2-41fb-853b-9d75d9ef2673",
   "metadata": {},
   "outputs": [],
   "source": [
    "temp = 300.0u\"K\";"
   ]
  },
  {
   "cell_type": "code",
   "execution_count": 10,
   "id": "e24c39a4-f288-4ace-b10f-2135e80b3f24",
   "metadata": {},
   "outputs": [],
   "source": [
    "velocitiesO = [random_velocity(atomO_mass, temp, dims = 2) for i in 1:n_atomsO];\n",
    "velocitiesH = [random_velocity(atomH_mass, temp, dims = 2) for i in 1:n_atomsH];\n",
    "velocities = [velocitiesO; velocitiesH];"
   ]
  },
  {
   "cell_type": "code",
   "execution_count": null,
   "id": "f8597b71-d3f3-448f-9762-68e19f133fbc",
   "metadata": {},
   "outputs": [],
   "source": []
  },
  {
   "cell_type": "code",
   "execution_count": 11,
   "id": "7062f09b-f792-4eef-9d9b-cd4a4dd5ed6c",
   "metadata": {},
   "outputs": [],
   "source": [
    "#cutoff = DistanceCutoff(1.2u\"nm\")\n",
    "pairwise_inters = (LennardJones(),); # Don't forget the trailing comma!"
   ]
  },
  {
   "cell_type": "code",
   "execution_count": 12,
   "id": "c763f907-4673-4614-9979-89f4b3527cfd",
   "metadata": {},
   "outputs": [],
   "source": [
    "#cutoff = DistanceCutoff(1.2u\"nm\")"
   ]
  },
  {
   "cell_type": "code",
   "execution_count": 13,
   "id": "713f00ab-2503-46cb-bed1-1830412394b9",
   "metadata": {},
   "outputs": [
    {
     "data": {
      "text/plain": [
       "System with 30 atoms, boundary RectangularBoundary{Quantity{Float64, 𝐋, Unitful.FreeUnits{(nm,), 𝐋, nothing}}}(Quantity{Float64, 𝐋, Unitful.FreeUnits{(nm,), 𝐋, nothing}}[10.0 nm, 10.0 nm])"
      ]
     },
     "execution_count": 13,
     "metadata": {},
     "output_type": "execute_result"
    }
   ],
   "source": [
    "sys = System(\n",
    "    atoms=atoms,\n",
    "    coords=coords,\n",
    "    boundary=boundary,\n",
    "    velocities=velocities,\n",
    "    pairwise_inters=pairwise_inters,\n",
    "    loggers=(\n",
    "        temp=TemperatureLogger(10),\n",
    "        coords=CoordinateLogger(1, dims = 2),\n",
    "    ),\n",
    ")"
   ]
  },
  {
   "cell_type": "code",
   "execution_count": 14,
   "id": "1fc49cec-35db-42a2-895e-e2f87a9c8dd3",
   "metadata": {},
   "outputs": [
    {
     "data": {
      "text/plain": [
       "VelocityVerlet{Quantity{Float64, 𝐓, Unitful.FreeUnits{(ps,), 𝐓, nothing}}, AndersenThermostat{Quantity{Float64, 𝚯, Unitful.FreeUnits{(K,), 𝚯, nothing}}, Quantity{Float64, 𝐓, Unitful.FreeUnits{(ps,), 𝐓, nothing}}}}(0.002 ps, AndersenThermostat{Quantity{Float64, 𝚯, Unitful.FreeUnits{(K,), 𝚯, nothing}}, Quantity{Float64, 𝐓, Unitful.FreeUnits{(ps,), 𝐓, nothing}}}(300.0 K, 1.0 ps), 1)"
      ]
     },
     "execution_count": 14,
     "metadata": {},
     "output_type": "execute_result"
    }
   ],
   "source": [
    "simulator = VelocityVerlet(\n",
    "    dt=0.002u\"ps\",\n",
    "    coupling=AndersenThermostat(temp, 1.0u\"ps\"),\n",
    ")"
   ]
  },
  {
   "cell_type": "code",
   "execution_count": 15,
   "id": "be50a878-cb80-41d4-9181-889e41036bac",
   "metadata": {},
   "outputs": [],
   "source": [
    "#simulator = Langevin(\n",
    "#    dt=0.001u\"ps\",\n",
    "#    temperature=temp,\n",
    "#    friction=1.0u\"ps^-1\",\n",
    "#    coupling=MonteCarloBarostat(1.0u\"bar\", temp, sys.boundary),\n",
    "#)"
   ]
  },
  {
   "cell_type": "code",
   "execution_count": 16,
   "id": "d4168d08-7b31-432e-b4c4-8ef3c4a12186",
   "metadata": {},
   "outputs": [
    {
     "data": {
      "text/plain": [
       "System with 30 atoms, boundary RectangularBoundary{Quantity{Float64, 𝐋, Unitful.FreeUnits{(nm,), 𝐋, nothing}}}(Quantity{Float64, 𝐋, Unitful.FreeUnits{(nm,), 𝐋, nothing}}[10.0 nm, 10.0 nm])"
      ]
     },
     "execution_count": 16,
     "metadata": {},
     "output_type": "execute_result"
    }
   ],
   "source": [
    "simulate!(sys, simulator, 1000)"
   ]
  },
  {
   "cell_type": "code",
   "execution_count": 17,
   "id": "0c71773e-0fee-4930-85bb-619703da579c",
   "metadata": {},
   "outputs": [
    {
     "data": {
      "text/plain": [
       "2-element Vector{Quantity{Float64, 𝐋^2 𝐌 𝐍^-1 𝐓^-2, Unitful.FreeUnits{(kJ, mol^-1), 𝐋^2 𝐌 𝐍^-1 𝐓^-2, nothing}}}:\n",
       "   -0.2471967302300884 kJ mol^-1\n",
       " 2.1835849419344263e32 kJ mol^-1"
      ]
     },
     "execution_count": 17,
     "metadata": {},
     "output_type": "execute_result"
    }
   ],
   "source": [
    "[potential_energy(sys), kinetic_energy(sys)]\n"
   ]
  },
  {
   "cell_type": "code",
   "execution_count": 18,
   "id": "e115461a-b564-474d-b388-3ae876cf370f",
   "metadata": {},
   "outputs": [
    {
     "data": {
      "text/plain": [
       "6.037354101202015e32 K"
      ]
     },
     "execution_count": 18,
     "metadata": {},
     "output_type": "execute_result"
    }
   ],
   "source": [
    "temperature(sys)"
   ]
  },
  {
   "cell_type": "code",
   "execution_count": null,
   "id": "49b79ca5-be76-413d-9918-5116c26b1297",
   "metadata": {},
   "outputs": [],
   "source": []
  },
  {
   "cell_type": "code",
   "execution_count": null,
   "id": "018f443f-b010-4539-8ca8-4ec393140f42",
   "metadata": {},
   "outputs": [],
   "source": []
  },
  {
   "cell_type": "code",
   "execution_count": 19,
   "id": "09eacc00-ac42-431b-b1be-0940944c844e",
   "metadata": {},
   "outputs": [
    {
     "data": {
      "text/plain": [
       "\"sim_2d.mp4\""
      ]
     },
     "execution_count": 19,
     "metadata": {},
     "output_type": "execute_result"
    }
   ],
   "source": [
    "visualize(\n",
    "    sys.loggers.coords, \n",
    "    boundary, \n",
    "    \"sim_2d.mp4\",\n",
    "    connections=[(1, 2)],\n",
    ")"
   ]
  },
  {
   "cell_type": "code",
   "execution_count": 20,
   "id": "7b5eba7e-c2f6-40cf-aa1d-6e14c7d5bc80",
   "metadata": {},
   "outputs": [
    {
     "data": {
      "text/html": [
       "<video autoplay controls><source src=\"sim_2d.mp4\" type=\"video/mp4\"></video>"
      ]
     },
     "metadata": {},
     "output_type": "display_data"
    }
   ],
   "source": [
    "display(\"text/html\", \"\"\"<video autoplay controls><source src=\"sim_2d.mp4\" type=\"video/mp4\"></video>\"\"\")"
   ]
  },
  {
   "cell_type": "code",
   "execution_count": null,
   "id": "cd198c10-af97-4e0a-9f90-c6d3ec36883a",
   "metadata": {},
   "outputs": [],
   "source": []
  },
  {
   "cell_type": "code",
   "execution_count": null,
   "id": "98c0c145-a320-41a4-bed8-a473e8b5151f",
   "metadata": {},
   "outputs": [],
   "source": []
  }
 ],
 "metadata": {
  "kernelspec": {
   "display_name": "Julia 1.10.0",
   "language": "julia",
   "name": "julia-1.10"
  },
  "language_info": {
   "file_extension": ".jl",
   "mimetype": "application/julia",
   "name": "julia",
   "version": "1.10.0"
  }
 },
 "nbformat": 4,
 "nbformat_minor": 5
}
