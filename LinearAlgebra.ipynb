{
 "cells": [
  {
   "cell_type": "code",
   "execution_count": 3,
   "id": "a45a9764-2289-448f-8f10-65c2012c07b6",
   "metadata": {},
   "outputs": [],
   "source": [
    "using LinearAlgebra\n",
    "using Random\n"
   ]
  },
  {
   "cell_type": "markdown",
   "id": "706ea583-bb9a-4eff-9964-094cbf9e027a",
   "metadata": {},
   "source": [
    "# Arrays\n",
    "------\n",
    "\n",
    "Julia has built-in support for\n",
    "many types of collection.  Arrays\n",
    "are used for rank-n tensors.\n",
    "A column vector is created using\n",
    "square bracket notation.\n",
    "Elements are separated by commas.\n"
   ]
  },
  {
   "cell_type": "code",
   "execution_count": 4,
   "id": "55d06186-b54a-463b-88c7-f1df266258bb",
   "metadata": {},
   "outputs": [
    {
     "data": {
      "text/plain": [
       "3-element Vector{Int64}:\n",
       " 1\n",
       " 2\n",
       " 3"
      ]
     },
     "execution_count": 4,
     "metadata": {},
     "output_type": "execute_result"
    }
   ],
   "source": [
    "[1, 2, 3]"
   ]
  },
  {
   "cell_type": "markdown",
   "id": "00bbf3fb-21c3-4ce9-af3b-841a7290f2cf",
   "metadata": {},
   "source": [
    "A row vector is created by placing\n",
    "spaces between elements."
   ]
  },
  {
   "cell_type": "code",
   "execution_count": 5,
   "id": "96f8cb7c-7d90-4177-9e84-0c9ea48b2339",
   "metadata": {},
   "outputs": [
    {
     "data": {
      "text/plain": [
       "1×3 Matrix{Int64}:\n",
       " 1  2  3"
      ]
     },
     "execution_count": 5,
     "metadata": {},
     "output_type": "execute_result"
    }
   ],
   "source": [
    "[1 2 3]"
   ]
  },
  {
   "cell_type": "markdown",
   "id": "e1fd4a00-a501-43fe-9466-66067cc4dfb0",
   "metadata": {},
   "source": [
    "A rank-2 tensor is created as row\n",
    "vector, separated by a semi-colon."
   ]
  },
  {
   "cell_type": "code",
   "execution_count": 6,
   "id": "2a1d6d14-6ac3-4357-8722-67a1eaa1cb3d",
   "metadata": {},
   "outputs": [
    {
     "data": {
      "text/plain": [
       "2×3 Matrix{Int64}:\n",
       " 1  2  3\n",
       " 4  5  6"
      ]
     },
     "execution_count": 6,
     "metadata": {},
     "output_type": "execute_result"
    }
   ],
   "source": [
    "[1 2 3; 4 5 6]\n"
   ]
  },
  {
   "cell_type": "markdown",
   "id": "86c736b5-c2f9-4928-beb6-d674f1cd0533",
   "metadata": {},
   "source": [
    "Column vector in a matrix are created\n",
    "as nested arrays, with a space between\n",
    "each column vector.\n",
    "\n"
   ]
  },
  {
   "cell_type": "code",
   "execution_count": 7,
   "id": "31f717e7-a6ec-42c5-858e-fcf6775b1fa6",
   "metadata": {},
   "outputs": [
    {
     "data": {
      "text/plain": [
       "3×2 Matrix{Int64}:\n",
       " 1  4\n",
       " 2  5\n",
       " 3  6"
      ]
     },
     "execution_count": 7,
     "metadata": {},
     "output_type": "execute_result"
    }
   ],
   "source": [
    "[[1, 2, 3] [4, 5, 6]]"
   ]
  },
  {
   "cell_type": "markdown",
   "id": "ba3d59b3-641f-4e17-8c9f-e5f963797fb5",
   "metadata": {},
   "source": [
    "### Julia has a hierarchical type structure.\n"
   ]
  },
  {
   "cell_type": "code",
   "execution_count": 8,
   "id": "ac785135-7702-4d41-a218-aadd9daaebc3",
   "metadata": {},
   "outputs": [
    {
     "data": {
      "text/plain": [
       "Matrix{Int64}\u001b[90m (alias for \u001b[39m\u001b[90mArray{Int64, 2}\u001b[39m\u001b[90m)\u001b[39m"
      ]
     },
     "execution_count": 8,
     "metadata": {},
     "output_type": "execute_result"
    }
   ],
   "source": [
    "typeof([[1, 2, 3] [4, 5, 6]]) #The typoeof() function returns the type of an object."
   ]
  },
  {
   "cell_type": "code",
   "execution_count": 9,
   "id": "de357d84-a5ee-4c40-8850-e10c3b44ba25",
   "metadata": {},
   "outputs": [
    {
     "data": {
      "text/plain": [
       "DenseArray"
      ]
     },
     "execution_count": 9,
     "metadata": {},
     "output_type": "execute_result"
    }
   ],
   "source": [
    "supertype(Array) # The supertype function returns the parent of the given type.\n"
   ]
  },
  {
   "cell_type": "code",
   "execution_count": 10,
   "id": "075d66cf-1d97-4fc5-8690-ba325f414e05",
   "metadata": {},
   "outputs": [
    {
     "data": {
      "text/plain": [
       "AbstractArray"
      ]
     },
     "execution_count": 10,
     "metadata": {},
     "output_type": "execute_result"
    }
   ],
   "source": [
    "supertype(DenseArray)\n"
   ]
  },
  {
   "cell_type": "markdown",
   "id": "1c6bd07c-ca47-4fc2-b679-c32349536580",
   "metadata": {},
   "source": [
    "All types are subtypes of the Any type.\n",
    "The subtypes() function return the\n",
    "children of the given type."
   ]
  },
  {
   "cell_type": "code",
   "execution_count": 11,
   "id": "daa8a916-cf2d-4c18-95e5-8e5ca17c860b",
   "metadata": {},
   "outputs": [
    {
     "data": {
      "text/plain": [
       "Any"
      ]
     },
     "execution_count": 11,
     "metadata": {},
     "output_type": "execute_result"
    }
   ],
   "source": [
    "supertype(AbstractArray)\n"
   ]
  },
  {
   "cell_type": "markdown",
   "id": "6bf95fbe-ea00-4ab6-ba5d-164761cc6fb4",
   "metadata": {},
   "source": [
    "We note that there are 31 children of the\n",
    "AbstractArray type.\n",
    "\n",
    "The leaves of this hierarchical structure\n",
    "are the concrete types and only they\n",
    "can be instantiated.\n"
   ]
  },
  {
   "cell_type": "markdown",
   "id": "62662301-15cd-4d2a-9edd-923f4f9e6d45",
   "metadata": {},
   "source": [
    "### Useful constructors\n",
    " -------------------\n",
    "\n",
    "There are many useful functions to construct arrays.\n"
   ]
  },
  {
   "cell_type": "code",
   "execution_count": 12,
   "id": "da5ba1be-6b0c-435f-a638-412837dd0b1a",
   "metadata": {},
   "outputs": [
    {
     "data": {
      "text/plain": [
       "3×3 Matrix{Float64}:\n",
       " 1.0  1.0  1.0\n",
       " 1.0  1.0  1.0\n",
       " 1.0  1.0  1.0"
      ]
     },
     "execution_count": 12,
     "metadata": {},
     "output_type": "execute_result"
    }
   ],
   "source": [
    "ones(3, 3)"
   ]
  },
  {
   "cell_type": "code",
   "execution_count": 13,
   "id": "e0212d79-6fb8-45d5-9b90-02899f718959",
   "metadata": {},
   "outputs": [
    {
     "data": {
      "text/plain": [
       "5-element Vector{Float64}:\n",
       " 0.0\n",
       " 0.0\n",
       " 0.0\n",
       " 0.0\n",
       " 0.0"
      ]
     },
     "execution_count": 13,
     "metadata": {},
     "output_type": "execute_result"
    }
   ],
   "source": [
    "zeros(5)"
   ]
  },
  {
   "cell_type": "code",
   "execution_count": 14,
   "id": "2bbfc8b4-2a03-49c3-9bcb-60c531c76e79",
   "metadata": {},
   "outputs": [
    {
     "data": {
      "text/plain": [
       "3-element BitVector:\n",
       " 0\n",
       " 0\n",
       " 0"
      ]
     },
     "execution_count": 14,
     "metadata": {},
     "output_type": "execute_result"
    }
   ],
   "source": [
    "falses(3)"
   ]
  },
  {
   "cell_type": "code",
   "execution_count": 15,
   "id": "d092d0e9-30a1-444e-b9ee-059253bbc39f",
   "metadata": {},
   "outputs": [
    {
     "data": {
      "text/plain": [
       "3-element BitVector:\n",
       " 1\n",
       " 1\n",
       " 1"
      ]
     },
     "execution_count": 15,
     "metadata": {},
     "output_type": "execute_result"
    }
   ],
   "source": [
    "trues(3)\n"
   ]
  },
  {
   "cell_type": "markdown",
   "id": "f185e478-4661-4308-bfd6-c29d7253f613",
   "metadata": {},
   "source": [
    "There are built-in iterators.  Since the\n",
    "code is compiled, loops are not always\n",
    "slower than vectorized code.  List\n",
    "comprehension is a great way to create\n",
    "an array"
   ]
  },
  {
   "cell_type": "code",
   "execution_count": 16,
   "id": "66d1f4ec-e906-43b9-b1f1-888ae21db211",
   "metadata": {},
   "outputs": [
    {
     "data": {
      "text/plain": [
       "5-element Vector{Int64}:\n",
       "  1\n",
       "  4\n",
       "  9\n",
       " 16\n",
       " 25"
      ]
     },
     "execution_count": 16,
     "metadata": {},
     "output_type": "execute_result"
    }
   ],
   "source": [
    "[i^2 for i = 1:5]\n"
   ]
  },
  {
   "cell_type": "markdown",
   "id": "73b50782-edc0-46d3-a883-c266f2c275de",
   "metadata": {},
   "source": [
    "Below, we construct a vector of\n",
    "(immutable) tuples."
   ]
  },
  {
   "cell_type": "code",
   "execution_count": 17,
   "id": "aefed3a6-2649-4915-afb2-d199cd8ecfcc",
   "metadata": {},
   "outputs": [
    {
     "data": {
      "text/plain": [
       "6-element Vector{Tuple{Int64, Int64}}:\n",
       " (1, 1)\n",
       " (1, 2)\n",
       " (1, 3)\n",
       " (2, 1)\n",
       " (2, 2)\n",
       " (2, 3)"
      ]
     },
     "execution_count": 17,
     "metadata": {},
     "output_type": "execute_result"
    }
   ],
   "source": [
    "[(i, j) for i = 1:2 for j = 1:3]\n"
   ]
  },
  {
   "cell_type": "markdown",
   "id": "a8390cf0-2b1c-4ed6-af91-844cf93d35ae",
   "metadata": {},
   "source": [
    "An upper or lower triangular view of\n",
    "a matrix can be created.  First, we seed\n",
    "the pseudo-random number generator."
   ]
  },
  {
   "cell_type": "code",
   "execution_count": 18,
   "id": "2060825b-0905-4bb2-8d53-e8eee64455f0",
   "metadata": {},
   "outputs": [],
   "source": [
    "Random.seed!(12);"
   ]
  },
  {
   "cell_type": "code",
   "execution_count": 19,
   "id": "c3d7a607-52ef-42b8-ac82-e214733f1655",
   "metadata": {},
   "outputs": [
    {
     "data": {
      "text/plain": [
       "5×5 Matrix{Int64}:\n",
       "  4  2  9  8  3\n",
       " 10  1  7  3  9\n",
       "  6  8  8  7  4\n",
       " 10  5  9  8  2\n",
       "  4  7  9  2  8"
      ]
     },
     "execution_count": 19,
     "metadata": {},
     "output_type": "execute_result"
    }
   ],
   "source": [
    "A = rand(1:10, 5, 5)\n"
   ]
  },
  {
   "cell_type": "markdown",
   "id": "4829fcc6-b418-4b8d-9c99-e113c0647a0e",
   "metadata": {},
   "source": [
    "An upper triangular view of A.  This is not factorization."
   ]
  },
  {
   "cell_type": "code",
   "execution_count": 20,
   "id": "3b7c529e-64cd-4a93-900d-420f65e74e1f",
   "metadata": {},
   "outputs": [
    {
     "data": {
      "text/plain": [
       "5×5 UpperTriangular{Int64, Matrix{Int64}}:\n",
       " 4  2  9  8  3\n",
       " ⋅  1  7  3  9\n",
       " ⋅  ⋅  8  7  4\n",
       " ⋅  ⋅  ⋅  8  2\n",
       " ⋅  ⋅  ⋅  ⋅  8"
      ]
     },
     "execution_count": 20,
     "metadata": {},
     "output_type": "execute_result"
    }
   ],
   "source": [
    "t = UpperTriangular(A)\n"
   ]
  },
  {
   "cell_type": "markdown",
   "id": "22ffe488-4025-4281-adb8-053fe6bc92da",
   "metadata": {},
   "source": [
    "Note that the matrix has two ways of indexation. First you can address the element as usual by chosin two numbers (i, j). But also, all the elements are numbered as they are in a onedimensional array composed of concatenated matrix columns, compare t[1,3] and t[11]"
   ]
  },
  {
   "cell_type": "code",
   "execution_count": 21,
   "id": "bf91d677-3274-4008-91d0-22dfc898cc30",
   "metadata": {},
   "outputs": [
    {
     "data": {
      "text/plain": [
       "true"
      ]
     },
     "execution_count": 21,
     "metadata": {},
     "output_type": "execute_result"
    }
   ],
   "source": [
    "t[1,3] == t[11]"
   ]
  },
  {
   "cell_type": "markdown",
   "id": "50714bce-554e-4712-a325-1b577317b4d7",
   "metadata": {},
   "source": [
    "A lower triangular view of A."
   ]
  },
  {
   "cell_type": "code",
   "execution_count": 22,
   "id": "2c3f34ab-d217-4c63-abb6-5fab6dd3b85d",
   "metadata": {},
   "outputs": [
    {
     "data": {
      "text/plain": [
       "5×5 LowerTriangular{Int64, Matrix{Int64}}:\n",
       "  4  ⋅  ⋅  ⋅  ⋅\n",
       " 10  1  ⋅  ⋅  ⋅\n",
       "  6  8  8  ⋅  ⋅\n",
       " 10  5  9  8  ⋅\n",
       "  4  7  9  2  8"
      ]
     },
     "execution_count": 22,
     "metadata": {},
     "output_type": "execute_result"
    }
   ],
   "source": [
    "LowerTriangular(A)\n"
   ]
  },
  {
   "cell_type": "markdown",
   "id": "adecab77-cf6f-41dd-bfb2-83362a840633",
   "metadata": {},
   "source": [
    "The values along the main\n",
    "diagonal can be converted to unity."
   ]
  },
  {
   "cell_type": "code",
   "execution_count": 23,
   "id": "5f5fa48e-bd51-4461-853f-c214789e2c2b",
   "metadata": {},
   "outputs": [
    {
     "data": {
      "text/plain": [
       "5×5 UnitUpperTriangular{Int64, Matrix{Int64}}:\n",
       " 1  2  9  8  3\n",
       " ⋅  1  7  3  9\n",
       " ⋅  ⋅  1  7  4\n",
       " ⋅  ⋅  ⋅  1  2\n",
       " ⋅  ⋅  ⋅  ⋅  1"
      ]
     },
     "execution_count": 23,
     "metadata": {},
     "output_type": "execute_result"
    }
   ],
   "source": [
    "UnitUpperTriangular(A)"
   ]
  },
  {
   "cell_type": "markdown",
   "id": "11ee7d3f-ac5a-488a-918e-13615384a476",
   "metadata": {},
   "source": [
    "The same can be done for a lower\n",
    "triangular view."
   ]
  },
  {
   "cell_type": "code",
   "execution_count": 24,
   "id": "24d220eb-e467-40af-8790-7f23412623c8",
   "metadata": {},
   "outputs": [
    {
     "data": {
      "text/plain": [
       "5×5 UnitLowerTriangular{Int64, Matrix{Int64}}:\n",
       "  1  ⋅  ⋅  ⋅  ⋅\n",
       " 10  1  ⋅  ⋅  ⋅\n",
       "  6  8  1  ⋅  ⋅\n",
       " 10  5  9  1  ⋅\n",
       "  4  7  9  2  1"
      ]
     },
     "execution_count": 24,
     "metadata": {},
     "output_type": "execute_result"
    }
   ],
   "source": [
    "UnitLowerTriangular(A)"
   ]
  },
  {
   "cell_type": "markdown",
   "id": "b460ff37-8f1d-49ab-ae84-e3883633147f",
   "metadata": {},
   "source": [
    "Diagonal matrices can be created as\n",
    "proper diagonal as well as upper and\n",
    "lower bidiagonal matrices.  The\n",
    "Diagonal() function creates a diagonal\n",
    "matrix."
   ]
  },
  {
   "cell_type": "code",
   "execution_count": 25,
   "id": "155e2b2a-1f36-4149-8a5a-b9e5c1f84ee9",
   "metadata": {},
   "outputs": [
    {
     "data": {
      "text/plain": [
       "3×3 Diagonal{Int64, Vector{Int64}}:\n",
       " 1  ⋅  ⋅\n",
       " ⋅  2  ⋅\n",
       " ⋅  ⋅  3"
      ]
     },
     "execution_count": 25,
     "metadata": {},
     "output_type": "execute_result"
    }
   ],
   "source": [
    "d =Diagonal([1, 2, 3])\n"
   ]
  },
  {
   "cell_type": "markdown",
   "id": "1f099f8f-71bb-41a3-a3a6-c683d1e2b94b",
   "metadata": {},
   "source": [
    "Note that the result is a sparse array.\n"
   ]
  },
  {
   "cell_type": "markdown",
   "id": "2b383ae9-9c7a-408a-9382-c57ad96364fb",
   "metadata": {},
   "source": [
    "An upper bidiagonal matrix is created below.\n",
    "Note the use of the :U symbol."
   ]
  },
  {
   "cell_type": "code",
   "execution_count": 26,
   "id": "ea2b3ef3-a322-414a-a49c-994f2731cb22",
   "metadata": {},
   "outputs": [
    {
     "data": {
      "text/plain": [
       "4×4 Bidiagonal{Int64, Vector{Int64}}:\n",
       " 1  7  ⋅  ⋅\n",
       " ⋅  2  8  ⋅\n",
       " ⋅  ⋅  3  9\n",
       " ⋅  ⋅  ⋅  4"
      ]
     },
     "execution_count": 26,
     "metadata": {},
     "output_type": "execute_result"
    }
   ],
   "source": [
    "Bidiagonal([1, 2, 3, 4], [7, 8, 9], :U)\n"
   ]
  },
  {
   "cell_type": "markdown",
   "id": "454630ef-d899-4549-ace1-072cc736fc83",
   "metadata": {},
   "source": [
    "A lower bidiagonal matrix uses the :L symbol."
   ]
  },
  {
   "cell_type": "code",
   "execution_count": 27,
   "id": "e15a88be-a713-4702-923f-31bf024c743d",
   "metadata": {},
   "outputs": [
    {
     "data": {
      "text/plain": [
       "4×4 Bidiagonal{Int64, Vector{Int64}}:\n",
       " 1  ⋅  ⋅  ⋅\n",
       " 7  2  ⋅  ⋅\n",
       " ⋅  8  3  ⋅\n",
       " ⋅  ⋅  9  4"
      ]
     },
     "execution_count": 27,
     "metadata": {},
     "output_type": "execute_result"
    }
   ],
   "source": [
    "Bidiagonal([1, 2, 3, 4], [7, 8, 9], :L)\n"
   ]
  },
  {
   "cell_type": "markdown",
   "id": "d3650a45-1c08-4321-b73b-388d840f55b0",
   "metadata": {},
   "source": [
    "A bidiagonal matrix can be created from an existing array."
   ]
  },
  {
   "cell_type": "code",
   "execution_count": 28,
   "id": "66c9e00b-c4d0-4746-8db9-487f756ba366",
   "metadata": {},
   "outputs": [
    {
     "data": {
      "text/plain": [
       "4×4 Matrix{Int64}:\n",
       " 1  5  4  2\n",
       " 2  1  1  1\n",
       " 4  4  3  3\n",
       " 4  4  3  4"
      ]
     },
     "execution_count": 28,
     "metadata": {},
     "output_type": "execute_result"
    }
   ],
   "source": [
    "Random.seed!(1);\n",
    "A = rand((1:5), (4, 4))"
   ]
  },
  {
   "cell_type": "code",
   "execution_count": 29,
   "id": "43c22ae7-3013-41b7-9fad-18ab167fa3ef",
   "metadata": {},
   "outputs": [
    {
     "data": {
      "text/plain": [
       "2-element Vector{Int64}:\n",
       " 3610739463416357436\n",
       "  229882327607648703"
      ]
     },
     "execution_count": 29,
     "metadata": {},
     "output_type": "execute_result"
    }
   ],
   "source": [
    "Random.rand!([1,3])"
   ]
  },
  {
   "cell_type": "code",
   "execution_count": 93,
   "id": "e2efb093-eb5d-4b18-8720-68a9326de012",
   "metadata": {},
   "outputs": [
    {
     "data": {
      "text/plain": [
       "4×4 Matrix{Int64}:\n",
       " 5  1  4  3\n",
       " 4  3  3  1\n",
       " 2  1  5  1\n",
       " 4  5  2  5"
      ]
     },
     "execution_count": 93,
     "metadata": {},
     "output_type": "execute_result"
    }
   ],
   "source": [
    "rand(`(1:5), (4, 4))\n"
   ]
  },
  {
   "cell_type": "markdown",
   "id": "fbf35da8-c621-4a61-b61f-dc48b83a0ec2",
   "metadata": {},
   "source": [
    "An upper bidiagonal version of A\n"
   ]
  },
  {
   "cell_type": "code",
   "execution_count": 30,
   "id": "8a49f5d1-9251-42df-8b9a-5925a7049cb8",
   "metadata": {},
   "outputs": [
    {
     "data": {
      "text/plain": [
       "4×4 Bidiagonal{Int64, Vector{Int64}}:\n",
       " 1  5  ⋅  ⋅\n",
       " ⋅  1  1  ⋅\n",
       " ⋅  ⋅  3  3\n",
       " ⋅  ⋅  ⋅  4"
      ]
     },
     "execution_count": 30,
     "metadata": {},
     "output_type": "execute_result"
    }
   ],
   "source": [
    "Bidiagonal(A, :U)\n"
   ]
  },
  {
   "cell_type": "markdown",
   "id": "f2dd79f4-9578-4be8-b53c-8dcbbf3a2c14",
   "metadata": {},
   "source": [
    "A lower bidiagonal version of A\n"
   ]
  },
  {
   "cell_type": "code",
   "execution_count": 31,
   "id": "d4300206-fabd-4bff-8f00-f6b840aa677d",
   "metadata": {},
   "outputs": [
    {
     "data": {
      "text/plain": [
       "4×4 Bidiagonal{Int64, Vector{Int64}}:\n",
       " 1  ⋅  ⋅  ⋅\n",
       " 2  1  ⋅  ⋅\n",
       " ⋅  4  3  ⋅\n",
       " ⋅  ⋅  3  4"
      ]
     },
     "execution_count": 31,
     "metadata": {},
     "output_type": "execute_result"
    }
   ],
   "source": [
    "Bidiagonal(A, :L)\n"
   ]
  },
  {
   "cell_type": "markdown",
   "id": "2b8d18c0-ed8f-43f8-8ac8-8e7f9ca10c40",
   "metadata": {},
   "source": [
    "We can also create a symmetric tridiagonal matrix."
   ]
  },
  {
   "cell_type": "code",
   "execution_count": 32,
   "id": "1e8d3ecf-7385-42f4-ac71-84aeed7aec20",
   "metadata": {},
   "outputs": [
    {
     "data": {
      "text/plain": [
       "4×4 SymTridiagonal{Int64, Vector{Int64}}:\n",
       " 1  1  ⋅  ⋅\n",
       " 1  2  1  ⋅\n",
       " ⋅  1  3  1\n",
       " ⋅  ⋅  1  4"
      ]
     },
     "execution_count": 32,
     "metadata": {},
     "output_type": "execute_result"
    }
   ],
   "source": [
    "SymTridiagonal([1, 2, 3, 4], [1, 1, 1])\n"
   ]
  },
  {
   "cell_type": "markdown",
   "id": "f8e25c18-8e30-4ed7-887a-fc10f757c179",
   "metadata": {},
   "source": [
    "Symmetric matrices can be constructed from existing matrices"
   ]
  },
  {
   "cell_type": "code",
   "execution_count": 34,
   "id": "0a994567-b616-4a8e-80fe-96525bf2da53",
   "metadata": {},
   "outputs": [
    {
     "data": {
      "text/plain": [
       "5×5 Matrix{Int64}:\n",
       "  4  2  9  8  3\n",
       " 10  1  7  3  9\n",
       "  6  8  8  7  4\n",
       " 10  5  9  8  2\n",
       "  4  7  9  2  8"
      ]
     },
     "execution_count": 34,
     "metadata": {},
     "output_type": "execute_result"
    }
   ],
   "source": [
    "Random.seed!(12)\n",
    "A = rand(1:10, 5, 5)"
   ]
  },
  {
   "cell_type": "code",
   "execution_count": 37,
   "id": "05b656fd-a642-4dbe-a8fa-35b0a66120d2",
   "metadata": {},
   "outputs": [
    {
     "data": {
      "text/plain": [
       "5×5 Symmetric{Int64, Matrix{Int64}}:\n",
       " 4  2  9  8  3\n",
       " 2  1  7  3  9\n",
       " 9  7  8  7  4\n",
       " 8  3  7  8  2\n",
       " 3  9  4  2  8"
      ]
     },
     "execution_count": 37,
     "metadata": {},
     "output_type": "execute_result"
    }
   ],
   "source": [
    "Symmetric(A) # Construct from upper triangular elements (default).\n"
   ]
  },
  {
   "cell_type": "code",
   "execution_count": 38,
   "id": "c2a239c2-1f03-4d9b-a163-0b97c7b2ee2d",
   "metadata": {},
   "outputs": [
    {
     "data": {
      "text/plain": [
       "5×5 Symmetric{Int64, Matrix{Int64}}:\n",
       "  4  10  6  10  4\n",
       " 10   1  8   5  7\n",
       "  6   8  8   9  9\n",
       " 10   5  9   8  2\n",
       "  4   7  9   2  8"
      ]
     },
     "execution_count": 38,
     "metadata": {},
     "output_type": "execute_result"
    }
   ],
   "source": [
    "# Construct from lower triangular values.\n",
    "Symmetric(A, :L)\n"
   ]
  },
  {
   "cell_type": "markdown",
   "id": "4da0fc09-3a5e-468b-b1ce-a2427246e247",
   "metadata": {},
   "source": [
    "The transpose of a symmetric matrix is equal to itself."
   ]
  },
  {
   "cell_type": "code",
   "execution_count": 39,
   "id": "04596ecf-90ca-4495-8944-d5ce853e2f4e",
   "metadata": {},
   "outputs": [
    {
     "data": {
      "text/plain": [
       "true"
      ]
     },
     "execution_count": 39,
     "metadata": {},
     "output_type": "execute_result"
    }
   ],
   "source": [
    "Symmetric(A, :L) == Transpose(Symmetric(A, :L))\n"
   ]
  },
  {
   "cell_type": "markdown",
   "id": "6aec1537-b2ac-4f8d-9105-ef39684c8de5",
   "metadata": {},
   "source": [
    "Hermitian matrices can be construicted from the upper or lower triangualr values of a matrix."
   ]
  },
  {
   "cell_type": "code",
   "execution_count": 41,
   "id": "abf218e6-dd65-4b6e-8f8f-f320bb96a837",
   "metadata": {},
   "outputs": [
    {
     "data": {
      "text/plain": [
       "5×5 Matrix{Complex{Int64}}:\n",
       " 1+0im  0+0im  2+2im  0+0im  3-3im\n",
       " 0+0im  4+0im  0+0im  5+0im  0+0im\n",
       " 6-6im  0+0im  7+0im  0+0im  8+8im\n",
       " 0+0im  9+0im  0+0im  1+0im  0+0im\n",
       " 2+2im  0+0im  3-3im  0+0im  4+0im"
      ]
     },
     "execution_count": 41,
     "metadata": {},
     "output_type": "execute_result"
    }
   ],
   "source": [
    "A = [\n",
    "    1 0 2 + 2im 0 3 - 3im\n",
    "    0 4 0 5 0\n",
    "    6 - 6im 0 7 0 8 + 8im\n",
    "    0 9 0 1 0\n",
    "    2 + 2im 0 3 - 3im 0 4\n",
    "]"
   ]
  },
  {
   "cell_type": "code",
   "execution_count": 42,
   "id": "ecda7391-bc78-46ba-a1fa-c8b62a0fb896",
   "metadata": {},
   "outputs": [
    {
     "data": {
      "text/plain": [
       "5×5 Hermitian{Complex{Int64}, Matrix{Complex{Int64}}}:\n",
       " 1+0im  0+0im  2+2im  0+0im  3-3im\n",
       " 0+0im  4+0im  0+0im  5+0im  0+0im\n",
       " 2-2im  0+0im  7+0im  0+0im  8+8im\n",
       " 0+0im  5+0im  0+0im  1+0im  0+0im\n",
       " 3+3im  0+0im  8-8im  0+0im  4+0im"
      ]
     },
     "execution_count": 42,
     "metadata": {},
     "output_type": "execute_result"
    }
   ],
   "source": [
    "Hermitian(A)\n"
   ]
  },
  {
   "cell_type": "code",
   "execution_count": 43,
   "id": "4badd7b1-bf21-4b54-8141-15706a67a0b7",
   "metadata": {},
   "outputs": [
    {
     "data": {
      "text/plain": [
       "5×5 Hermitian{Complex{Int64}, Matrix{Complex{Int64}}}:\n",
       " 1+0im  0+0im  6+6im  0+0im  2-2im\n",
       " 0+0im  4+0im  0+0im  9+0im  0+0im\n",
       " 6-6im  0+0im  7+0im  0+0im  3+3im\n",
       " 0+0im  9+0im  0+0im  1+0im  0+0im\n",
       " 2+2im  0+0im  3-3im  0+0im  4+0im"
      ]
     },
     "execution_count": 43,
     "metadata": {},
     "output_type": "execute_result"
    }
   ],
   "source": [
    "Hermitian(A, :L) # We can specify the lower values."
   ]
  },
  {
   "cell_type": "markdown",
   "id": "675c1387-4a39-4125-870c-8bd0a9d45233",
   "metadata": {},
   "source": [
    "\n",
    "### Vector multiplication\n",
    " ---------------------"
   ]
  },
  {
   "cell_type": "code",
   "execution_count": 44,
   "id": "32012a23-ffdb-4afe-bbdb-447239e1b55d",
   "metadata": {},
   "outputs": [
    {
     "data": {
      "text/plain": [
       "12"
      ]
     },
     "execution_count": 44,
     "metadata": {},
     "output_type": "execute_result"
    }
   ],
   "source": [
    "# The dot() function performs a dot product of same-sized vectors\n",
    "dot([1, 2, 3], [2, 2, 2])"
   ]
  },
  {
   "cell_type": "code",
   "execution_count": 59,
   "id": "562d5833-a17b-4a7b-932f-61aa61ef3526",
   "metadata": {},
   "outputs": [
    {
     "data": {
      "text/plain": [
       "12"
      ]
     },
     "execution_count": 59,
     "metadata": {},
     "output_type": "execute_result"
    }
   ],
   "source": [
    "# Short-hand notation is available\n",
    "[1, 2, 3]⋅[2, 2, 2]"
   ]
  },
  {
   "cell_type": "code",
   "execution_count": 60,
   "id": "24b73819-63ef-4028-b7c8-e35337b22e66",
   "metadata": {},
   "outputs": [
    {
     "data": {
      "text/plain": [
       "3-element Vector{Int64}:\n",
       " -2\n",
       "  4\n",
       " -2"
      ]
     },
     "execution_count": 60,
     "metadata": {},
     "output_type": "execute_result"
    }
   ],
   "source": [
    "# The cross() function determines vector cross-products\n",
    "cross([1, 2, 3], [2, 2, 2])\n"
   ]
  },
  {
   "cell_type": "code",
   "execution_count": 61,
   "id": "0b68698f-0197-4af8-b4e7-411e6c97126b",
   "metadata": {},
   "outputs": [
    {
     "data": {
      "text/plain": [
       "3-element Vector{Int64}:\n",
       " -2\n",
       "  4\n",
       " -2"
      ]
     },
     "execution_count": 61,
     "metadata": {},
     "output_type": "execute_result"
    }
   ],
   "source": [
    "# Short-hand notation is available as well.\n",
    "[1, 2, 3] × [2, 2, 2]"
   ]
  },
  {
   "cell_type": "markdown",
   "id": "56d84400-7157-4fd6-b833-fdba297f050b",
   "metadata": {},
   "source": [
    "### Matrix multiplication\n",
    "---------------------"
   ]
  },
  {
   "cell_type": "markdown",
   "id": "fa0e0d2b-9e4b-4f72-8cc1-c4f26ad93871",
   "metadata": {},
   "source": [
    "Matrix multiplication is calculated using the * symbol.\n"
   ]
  },
  {
   "cell_type": "code",
   "execution_count": 64,
   "id": "46cf1a87-4f12-4dea-999f-faa1acd24d75",
   "metadata": {},
   "outputs": [
    {
     "data": {
      "text/plain": [
       "2×3 Matrix{Int64}:\n",
       " 1  2  3\n",
       " 4  5  6"
      ]
     },
     "execution_count": 64,
     "metadata": {},
     "output_type": "execute_result"
    }
   ],
   "source": [
    "A = [1 2 3; 4 5 6]"
   ]
  },
  {
   "cell_type": "code",
   "execution_count": 65,
   "id": "87585af3-3c0f-470b-8741-d9fe58e39fe9",
   "metadata": {},
   "outputs": [
    {
     "data": {
      "text/plain": [
       "3×2 Matrix{Int64}:\n",
       " 1  2\n",
       " 4  7\n",
       " 2  3"
      ]
     },
     "execution_count": 65,
     "metadata": {},
     "output_type": "execute_result"
    }
   ],
   "source": [
    "B = [1 2; 4 7; 2 3]"
   ]
  },
  {
   "cell_type": "code",
   "execution_count": 66,
   "id": "6b8f87d0-5417-448d-9b55-4bc75b0d4802",
   "metadata": {},
   "outputs": [
    {
     "data": {
      "text/plain": [
       "2×2 Matrix{Int64}:\n",
       " 15  25\n",
       " 36  61"
      ]
     },
     "execution_count": 66,
     "metadata": {},
     "output_type": "execute_result"
    }
   ],
   "source": [
    "A * B"
   ]
  },
  {
   "cell_type": "code",
   "execution_count": 70,
   "id": "f5648f48-e9d3-4e3a-b53d-223f44911d10",
   "metadata": {},
   "outputs": [],
   "source": [
    "# Matrix-vector multiplication is done in a similar way."
   ]
  },
  {
   "cell_type": "code",
   "execution_count": 73,
   "id": "33aaa07c-62ff-4557-8420-3195ffac9da5",
   "metadata": {},
   "outputs": [
    {
     "data": {
      "text/plain": [
       "3×3 Matrix{Int64}:\n",
       " 3  5  10\n",
       " 7  8   3\n",
       " 3  9   5"
      ]
     },
     "execution_count": 73,
     "metadata": {},
     "output_type": "execute_result"
    }
   ],
   "source": [
    "A = rand(1:10, 3, 3)"
   ]
  },
  {
   "cell_type": "code",
   "execution_count": 74,
   "id": "ddc0ccd0-e0b4-4a7c-b37c-ff712bfb3d47",
   "metadata": {},
   "outputs": [
    {
     "data": {
      "text/plain": [
       "3-element Vector{Int64}:\n",
       " 1\n",
       " 2\n",
       " 3"
      ]
     },
     "execution_count": 74,
     "metadata": {},
     "output_type": "execute_result"
    }
   ],
   "source": [
    "x = [1, 2, 3]\n"
   ]
  },
  {
   "cell_type": "code",
   "execution_count": 75,
   "id": "757cdbe2-e472-4840-be94-93483282b302",
   "metadata": {},
   "outputs": [
    {
     "data": {
      "text/plain": [
       "3-element Vector{Int64}:\n",
       " 43\n",
       " 32\n",
       " 36"
      ]
     },
     "execution_count": 75,
     "metadata": {},
     "output_type": "execute_result"
    }
   ],
   "source": [
    "A * x\n"
   ]
  },
  {
   "cell_type": "code",
   "execution_count": 76,
   "id": "8574cf1d-6143-4702-8d36-1c06e362cdec",
   "metadata": {},
   "outputs": [
    {
     "data": {
      "text/plain": [
       "3×3 Matrix{Int64}:\n",
       "  9  15  30\n",
       " 21  24   9\n",
       "  9  27  15"
      ]
     },
     "execution_count": 76,
     "metadata": {},
     "output_type": "execute_result"
    }
   ],
   "source": [
    "# Scalar-matrix like-wise uses the * symbol.\n",
    "3 * A"
   ]
  },
  {
   "cell_type": "code",
   "execution_count": null,
   "id": "86b3a00e-a104-485a-ae6c-719f8126445f",
   "metadata": {},
   "outputs": [],
   "source": [
    "# Elemntwise matrix-matrix multiplication uses the .* notation.\n"
   ]
  },
  {
   "cell_type": "code",
   "execution_count": 77,
   "id": "49b876f9-a444-4584-9ced-c68cf032c951",
   "metadata": {},
   "outputs": [
    {
     "data": {
      "text/plain": [
       "3×3 Matrix{Int64}:\n",
       " 7  1  10\n",
       " 9  4   3\n",
       " 3  1   6"
      ]
     },
     "execution_count": 77,
     "metadata": {},
     "output_type": "execute_result"
    }
   ],
   "source": [
    "B = rand(1:10, 3, 3)\n"
   ]
  },
  {
   "cell_type": "code",
   "execution_count": 78,
   "id": "a484bfbd-9d6a-410d-a161-f595a62d0c69",
   "metadata": {},
   "outputs": [
    {
     "data": {
      "text/plain": [
       "3×3 Matrix{Int64}:\n",
       " 21   5  100\n",
       " 63  32    9\n",
       "  9   9   30"
      ]
     },
     "execution_count": 78,
     "metadata": {},
     "output_type": "execute_result"
    }
   ],
   "source": [
    "A .* B"
   ]
  },
  {
   "cell_type": "markdown",
   "id": "088efd5c-85d1-4186-805f-138649794456",
   "metadata": {},
   "source": []
  },
  {
   "cell_type": "code",
   "execution_count": 84,
   "id": "00c40777-01e4-41ed-80ba-980bc0707317",
   "metadata": {},
   "outputs": [
    {
     "data": {
      "text/plain": [
       "3×3 Matrix{Int64}:\n",
       " 30  50  100\n",
       " 70  80   30\n",
       " 30  90   50"
      ]
     },
     "execution_count": 84,
     "metadata": {},
     "output_type": "execute_result"
    }
   ],
   "source": []
  },
  {
   "cell_type": "code",
   "execution_count": 85,
   "id": "15cb409e-5322-4276-b031-203cb1c6cfc5",
   "metadata": {},
   "outputs": [
    {
     "data": {
      "text/plain": [
       "3×3 Matrix{Int64}:\n",
       " 10   6  20\n",
       " 16  12   6\n",
       "  6  10  11"
      ]
     },
     "execution_count": 85,
     "metadata": {},
     "output_type": "execute_result"
    }
   ],
   "source": [
    "# Addition and subtraction are element-wise.\n",
    "A + B"
   ]
  },
  {
   "cell_type": "code",
   "execution_count": 86,
   "id": "2894a7ef-04f4-4b01-b10f-16c85c5fc4f8",
   "metadata": {},
   "outputs": [
    {
     "data": {
      "text/plain": [
       "3×3 Matrix{Int64}:\n",
       " 3  5  10\n",
       " 7  8   3\n",
       " 3  9   5"
      ]
     },
     "execution_count": 86,
     "metadata": {},
     "output_type": "execute_result"
    }
   ],
   "source": [
    "A"
   ]
  },
  {
   "cell_type": "markdown",
   "id": "1df4211e-26d8-4a2c-818d-80d1bb22f32a",
   "metadata": {},
   "source": [
    "The UniformScaling() function creates an identity matrix or given scalar multiple of the identity matrix with a size as required."
   ]
  },
  {
   "cell_type": "code",
   "execution_count": 87,
   "id": "fa057f06-e527-4b06-acb9-637a44ff8e52",
   "metadata": {},
   "outputs": [
    {
     "data": {
      "text/plain": [
       "3×3 Matrix{Int64}:\n",
       " 30  50  100\n",
       " 70  80   30\n",
       " 30  90   50"
      ]
     },
     "execution_count": 87,
     "metadata": {},
     "output_type": "execute_result"
    }
   ],
   "source": [
    "UniformScaling(10) * A"
   ]
  },
  {
   "cell_type": "code",
   "execution_count": 88,
   "id": "c203daf4-2ead-42f9-be7f-a53da8e9f411",
   "metadata": {},
   "outputs": [
    {
     "data": {
      "text/plain": [
       "3×4 Matrix{Int64}:\n",
       " 1  2  3  4\n",
       " 2  3  4  5\n",
       " 2  1  3  1"
      ]
     },
     "execution_count": 88,
     "metadata": {},
     "output_type": "execute_result"
    }
   ],
   "source": [
    "A = [1 2 3 4; 2 3 4 5; 2 1 3 1]\n"
   ]
  },
  {
   "cell_type": "code",
   "execution_count": 90,
   "id": "f46b744e-dc75-461f-8910-30aefdf35f8a",
   "metadata": {},
   "outputs": [
    {
     "data": {
      "text/plain": [
       "UniformScaling{Int64}\n",
       "1*I"
      ]
     },
     "execution_count": 90,
     "metadata": {},
     "output_type": "execute_result"
    }
   ],
   "source": [
    "UniformScaling(1) "
   ]
  },
  {
   "cell_type": "markdown",
   "id": "8bff453b-bb5e-42e9-a21e-6949b23c25dc",
   "metadata": {},
   "source": [
    "### Factorization\n",
    "-----------\n"
   ]
  },
  {
   "cell_type": "code",
   "execution_count": 91,
   "id": "bdb4963b-ea11-4778-a6e2-006f6062324f",
   "metadata": {},
   "outputs": [
    {
     "data": {
      "text/plain": [
       "BunchKaufman{Float64, Matrix{Float64}, Vector{Int64}}\n",
       "D factor:\n",
       "3×3 Tridiagonal{Float64, Vector{Float64}}:\n",
       " -1.64286   0.0   ⋅ \n",
       "  0.0      -2.8  0.0\n",
       "   ⋅        0.0  5.0\n",
       "U factor:\n",
       "3×3 UnitUpperTriangular{Float64, Matrix{Float64}}:\n",
       " 1.0  0.142857  -0.8\n",
       "  ⋅   1.0       -0.6\n",
       "  ⋅    ⋅         1.0\n",
       "permutation:\n",
       "3-element Vector{Int64}:\n",
       " 1\n",
       " 2\n",
       " 3"
      ]
     },
     "execution_count": 91,
     "metadata": {},
     "output_type": "execute_result"
    }
   ],
   "source": [
    "\n",
    "# Matrix factorization is commonly\n",
    "# used for performance or memory\n",
    "# optimization.\n",
    "A = [1.5 2 -4; 2 -1 -3; -4 -3 5]\n",
    "\n",
    "factorize(A)"
   ]
  },
  {
   "cell_type": "code",
   "execution_count": 92,
   "id": "70eac13f-3a43-4b3e-9f92-1c6f1a9b27d8",
   "metadata": {},
   "outputs": [
    {
     "data": {
      "text/plain": [
       "3×3 Matrix{Float64}:\n",
       "  1.5   2.0  -4.0\n",
       "  2.0  -1.0  -3.0\n",
       " -4.0  -3.0   5.0"
      ]
     },
     "execution_count": 92,
     "metadata": {},
     "output_type": "execute_result"
    }
   ],
   "source": [
    "A"
   ]
  },
  {
   "cell_type": "code",
   "execution_count": 96,
   "id": "9ada92d2-4237-475e-a09e-12ea05bbedc9",
   "metadata": {},
   "outputs": [
    {
     "data": {
      "text/plain": [
       "BunchKaufman{Float64, Matrix{Float64}, Vector{Int64}}\n",
       "D factor:\n",
       "3×3 Tridiagonal{Float64, Vector{Float64}}:\n",
       " -1.64286   0.0   ⋅ \n",
       "  0.0      -2.8  0.0\n",
       "   ⋅        0.0  5.0\n",
       "U factor:\n",
       "3×3 UnitUpperTriangular{Float64, Matrix{Float64}}:\n",
       " 1.0  0.142857  -0.8\n",
       "  ⋅   1.0       -0.6\n",
       "  ⋅    ⋅         1.0\n",
       "permutation:\n",
       "3-element Vector{Int64}:\n",
       " 1\n",
       " 2\n",
       " 3"
      ]
     },
     "execution_count": 96,
     "metadata": {},
     "output_type": "execute_result"
    }
   ],
   "source": [
    "z = factorize(A)"
   ]
  },
  {
   "cell_type": "code",
   "execution_count": 94,
   "id": "dd99a3f0-2bd8-4d2e-ae71-6ca8d123d6cd",
   "metadata": {},
   "outputs": [
    {
     "data": {
      "text/plain": [
       "23.0"
      ]
     },
     "execution_count": 94,
     "metadata": {},
     "output_type": "execute_result"
    }
   ],
   "source": [
    "det(A)"
   ]
  },
  {
   "cell_type": "code",
   "execution_count": 98,
   "id": "086b3c10-cbe1-4f76-b860-0c69031849f1",
   "metadata": {},
   "outputs": [
    {
     "data": {
      "text/plain": [
       "BunchKaufman{Float64, Matrix{Float64}, Vector{Int64}}\n",
       "D factor:\n",
       "3×3 Tridiagonal{Float64, Vector{Float64}}:\n",
       " -1.64286   0.0   ⋅ \n",
       "  0.0      -2.8  0.0\n",
       "   ⋅        0.0  5.0\n",
       "U factor:\n",
       "3×3 UnitUpperTriangular{Float64, Matrix{Float64}}:\n",
       " 1.0  0.142857  -0.8\n",
       "  ⋅   1.0       -0.6\n",
       "  ⋅    ⋅         1.0\n",
       "permutation:\n",
       "3-element Vector{Int64}:\n",
       " 1\n",
       " 2\n",
       " 3"
      ]
     },
     "execution_count": 98,
     "metadata": {},
     "output_type": "execute_result"
    }
   ],
   "source": [
    " z"
   ]
  },
  {
   "cell_type": "code",
   "execution_count": 99,
   "id": "33f791b7-d41f-482f-a19c-c3f1e4f877ab",
   "metadata": {},
   "outputs": [
    {
     "data": {
      "text/plain": [
       "3-element Vector{Float64}:\n",
       " -2.310376890836094\n",
       " -1.115327714990029\n",
       "  8.925704605826123"
      ]
     },
     "execution_count": 99,
     "metadata": {},
     "output_type": "execute_result"
    }
   ],
   "source": [
    "eigvals(A)"
   ]
  },
  {
   "cell_type": "code",
   "execution_count": null,
   "id": "86bdae5a-346e-4789-a121-ef5005659cc7",
   "metadata": {},
   "outputs": [],
   "source": []
  }
 ],
 "metadata": {
  "kernelspec": {
   "display_name": "Julia 1.10.0",
   "language": "julia",
   "name": "julia-1.10"
  },
  "language_info": {
   "file_extension": ".jl",
   "mimetype": "application/julia",
   "name": "julia",
   "version": "1.10.0"
  }
 },
 "nbformat": 4,
 "nbformat_minor": 5
}
