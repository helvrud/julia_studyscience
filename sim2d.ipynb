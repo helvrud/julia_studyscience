{
 "cells": [
  {
   "cell_type": "code",
   "execution_count": 3,
   "id": "67bc197f-5550-4032-b4aa-974901d00336",
   "metadata": {},
   "outputs": [],
   "source": [
    "using Molly\n",
    "using Colors\n",
    "try\n",
    "    using GLMakie\n",
    "catch e\n",
    "    import Pkg; Pkg.add(\"GLMakie\")\n",
    "end\n"
   ]
  },
  {
   "cell_type": "code",
   "execution_count": 4,
   "id": "cb9e224d-7029-4f29-8fac-0573b2d9f066",
   "metadata": {},
   "outputs": [],
   "source": [
    "n_atomsO = 2\n",
    "n_atomsH = n_atomsO *2\n",
    "\n",
    "atomO_mass = 16.0u\"g/mol\"\n",
    "atomH_mass = 1.0u\"g/mol\"\n",
    "\n",
    "atomsO = [Atom(index=i, mass=atomO_mass, σ=0.3u\"nm\", ϵ=0.2u\"kJ * mol^-1\") for i in 1:n_atomsO];\n",
    "atomsH = [Atom(index=i, mass=atomH_mass, σ=0.1u\"nm\", ϵ=0.2u\"kJ * mol^-1\") for i in (n_atomsO+1):(n_atomsO+n_atomsH)];\n",
    "atoms = [atomsO;atomsH]; # this concatenates two vectors\n"
   ]
  },
  {
   "cell_type": "code",
   "execution_count": 5,
   "id": "e6313737-963f-49b7-9250-a070061a3744",
   "metadata": {},
   "outputs": [],
   "source": [
    "boundary = RectangularBoundary(5.0u\"nm\", 5.0u\"nm\") ;\n",
    "\n",
    "coords = place_atoms(n_atomsO, boundary; min_dist=0.3u\"nm\"); # Random placement without clashing\n",
    "for i in 1:length(coords)\n",
    "    push!(coords, coords[i] .+ [0.1, 0.0]u\"nm\")\n",
    "    push!(coords, coords[i] .+ [0.0, 0.1]u\"nm\")\n",
    "end\n",
    "\n",
    "#bonds = InteractionList2Atoms(\n",
    "#    collect(1:(n_atomsO)),              # First atom indices\n",
    "#    collect((n_atomsO+1):n_atomsH),     # Second atom indices\n",
    "#    [HarmonicBond(k=300_000.0u\"kJ * mol^-1 * nm^-2\", r0=0.1u\"nm\") for i in 1:(n_atomsO)],\n",
    "#)\n",
    "#specific_inter_lists = (bonds,);"
   ]
  },
  {
   "cell_type": "code",
   "execution_count": 6,
   "id": "c319ebf2-b54c-4686-a0e7-722b45a192a7",
   "metadata": {},
   "outputs": [],
   "source": [
    "#fene_k = 250.0u\"kJ * mol^-1 * nm^-2\"\n",
    "#fene_r0 = 1.6u\"nm\"\n",
    "#bonds = InteractionList2Atoms(\n",
    "    #collect(1:(n_atomsO)),              # First atom indices\n",
    "    #collect((n_atomsO+1):n_atomsH),     # Second atom indices\n",
    "    #[FENEBond(k=fene_k, r0=fene_r0, σ=0.4u\"nm\", ϵ=25u\"kJ * mol^-1\") for _ in 1:n_atomsO],)\n",
    "#specific_inter_lists = (bonds,)\n",
    "\n",
    "\n",
    "\n",
    "\n",
    "\n"
   ]
  },
  {
   "cell_type": "code",
   "execution_count": 7,
   "id": "f5498372-d023-49aa-9748-55cad75af66c",
   "metadata": {},
   "outputs": [
    {
     "data": {
      "text/plain": [
       "LennardJones{false, NoCutoff, Int64, Int64, Unitful.FreeUnits{(kJ, nm^-1, mol^-1), 𝐋 𝐌 𝐍^-1 𝐓^-2, nothing}, Unitful.FreeUnits{(kJ, mol^-1), 𝐋^2 𝐌 𝐍^-1 𝐓^-2, nothing}}(NoCutoff(), false, true, 1, 1, kJ nm^-1 mol^-1, kJ mol^-1)"
      ]
     },
     "execution_count": 7,
     "metadata": {},
     "output_type": "execute_result"
    }
   ],
   "source": [
    "temp = 300.0u\"K\";\n",
    "velocitiesO = [random_velocity(atomO_mass, temp, dims = 2) for i in 1:n_atomsO];\n",
    "velocitiesH = [random_velocity(atomH_mass, temp, dims = 2) for i in 1:n_atomsH];\n",
    "velocities = [velocitiesO; velocitiesH];\n",
    "\n",
    "\n",
    "lj = LennardJones(\n",
    "    #cutoff=DistanceCutoff(5.0u\"nm\"),\n",
    "    #use_neighbors=true,\n",
    ")"
   ]
  },
  {
   "cell_type": "code",
   "execution_count": 9,
   "id": "30489bfa-701f-4f2c-ae37-1196a09a60c7",
   "metadata": {},
   "outputs": [
    {
     "data": {
      "text/plain": [
       "System with 6 atoms, boundary RectangularBoundary{Quantity{Float64, 𝐋, Unitful.FreeUnits{(nm,), 𝐋, nothing}}}(Quantity{Float64, 𝐋, Unitful.FreeUnits{(nm,), 𝐋, nothing}}[5.0 nm, 5.0 nm])"
      ]
     },
     "execution_count": 9,
     "metadata": {},
     "output_type": "execute_result"
    }
   ],
   "source": [
    "sys = System(\n",
    "    atoms=atoms,\n",
    "    coords=coords,\n",
    "    boundary=boundary,\n",
    "    velocities=velocities,\n",
    "    pairwise_inters=(lj,),\n",
    "    #specific_inter_lists=(bonds,),\n",
    "    loggers=(\n",
    "        #temp=TemperatureLogger(10),\n",
    "        coords=CoordinateLogger(1, dims = 2),\n",
    "    ),\n",
    ")\n",
    "#sim = VelocityVerlet(dt=0.002u\"ps\", coupling=AndersenThermostat(temp, 1.0u\"ps\"),)\n",
    "sim = Langevin(dt=0.002u\"ps\", temperature=300.0u\"K\", friction=1.0u\"ps^-1\")\n",
    "simulate!(sys, sim, 1000)"
   ]
  },
  {
   "cell_type": "code",
   "execution_count": 11,
   "id": "b44296c6-0892-4898-a4ac-66a9e84a8415",
   "metadata": {},
   "outputs": [
    {
     "data": {
      "text/plain": [
       "\"sim_2d.mp4\""
      ]
     },
     "execution_count": 11,
     "metadata": {},
     "output_type": "execute_result"
    }
   ],
   "source": [
    "[potential_energy(sys), kinetic_energy(sys)]\n",
    "#temperature(sys)\n",
    "\n",
    "colors = distinguishable_colors(2, [RGB(1, 1, 1), RGB(0, 0, 0)]; dropseed=true)\n",
    "\n",
    "\n",
    "visualize(\n",
    "    sys.loggers.coords, \n",
    "    boundary, \n",
    "    \"sim_2d.mp4\",\n",
    "    #connections=[(bonds.is[i], bonds.js[i]) for i in 1:length(bonds.is)],\n",
    "    #connections=zip(bonds.is, bonds.js),\n",
    "    colors=repeat(colors; inner=n_atomsO),\n",
    "    \n",
    ")\n",
    "\n"
   ]
  },
  {
   "cell_type": "code",
   "execution_count": 12,
   "id": "905c3f11-88b6-4e9a-a8b6-0b3ed882b44f",
   "metadata": {},
   "outputs": [
    {
     "data": {
      "text/html": [
       "<video autoplay controls><source src=\"sim_2d.mp4\" type=\"video/mp4\"></video>"
      ]
     },
     "metadata": {},
     "output_type": "display_data"
    }
   ],
   "source": [
    "display(\"text/html\", \"\"\"<video autoplay controls><source src=\"sim_2d.mp4\" type=\"video/mp4\"></video>\"\"\")"
   ]
  },
  {
   "cell_type": "code",
   "execution_count": null,
   "id": "726f88a4-ef81-41de-a401-455723c1f7f8",
   "metadata": {},
   "outputs": [],
   "source": []
  }
 ],
 "metadata": {
  "kernelspec": {
   "display_name": "Julia 1.10.0",
   "language": "julia",
   "name": "julia-1.10"
  },
  "language_info": {
   "file_extension": ".jl",
   "mimetype": "application/julia",
   "name": "julia",
   "version": "1.10.0"
  }
 },
 "nbformat": 4,
 "nbformat_minor": 5
}
